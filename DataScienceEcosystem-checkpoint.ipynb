{
 "cells": [
  {
   "cell_type": "markdown",
   "id": "13aff0fc-061c-4d6b-90cd-b721fda55f2c",
   "metadata": {},
   "source": [
    "# Data Science Tools and Ecosystem"
   ]
  },
  {
   "cell_type": "markdown",
   "id": "8d234744-5650-407b-8b2f-3b28907140f4",
   "metadata": {},
   "source": [
    "In this notebook, Data Science Tools and Ecosystem are summarized."
   ]
  },
  {
   "cell_type": "markdown",
   "id": "c2463a67-d730-4aa6-aadf-98fa5861d3a2",
   "metadata": {},
   "source": [
    "Some of the popular languages that Data Scientists use are:\n",
    "1. Python\n",
    "2. R\n",
    "3. SQL\n",
    "4. Julia"
   ]
  },
  {
   "cell_type": "markdown",
   "id": "7d0378f0-f4ab-4f4a-ab2a-28c5770b09aa",
   "metadata": {},
   "source": [
    "Some of the commonly used libraries used by Data Scientists include:\n",
    "1. Pandas\n",
    "2. NumPy\n",
    "3. Matplotlib"
   ]
  },
  {
   "cell_type": "markdown",
   "id": "42e0d9fa-bb75-463e-9866-0f14bf6c318d",
   "metadata": {},
   "source": [
    "| Data Science Tools | \n",
    "| -------------------|\n",
    "| Juputer Notebook |\n",
    "| R Studio |\n",
    "| Google colab | \n",
    "| IBM Skills Networl |"
   ]
  },
  {
   "cell_type": "markdown",
   "id": "9f03bce7-18b4-4d27-b0c0-b66526ac81f3",
   "metadata": {},
   "source": [
    "### Below are a few examples of evaluating arithmetic expressions in Python"
   ]
  },
  {
   "cell_type": "code",
   "execution_count": 1,
   "id": "720154f4-e3e1-45db-a0ab-5a2eaa5efd67",
   "metadata": {},
   "outputs": [
    {
     "data": {
      "text/plain": [
       "6"
      ]
     },
     "execution_count": 1,
     "metadata": {},
     "output_type": "execute_result"
    }
   ],
   "source": [
    "4+2"
   ]
  },
  {
   "cell_type": "code",
   "execution_count": 2,
   "id": "eafbc6c9-226b-4830-8d9e-821391926419",
   "metadata": {},
   "outputs": [
    {
     "data": {
      "text/plain": [
       "9"
      ]
     },
     "execution_count": 2,
     "metadata": {},
     "output_type": "execute_result"
    }
   ],
   "source": [
    "3**2"
   ]
  },
  {
   "cell_type": "code",
   "execution_count": 3,
   "id": "3c47a653-b46b-45f5-b901-5f1726675dc6",
   "metadata": {},
   "outputs": [
    {
     "data": {
      "text/plain": [
       "25"
      ]
     },
     "execution_count": 3,
     "metadata": {},
     "output_type": "execute_result"
    }
   ],
   "source": [
    "5 * 5"
   ]
  },
  {
   "cell_type": "code",
   "execution_count": 6,
   "id": "07d0dc5f-0173-43b9-b907-0e52b1a74d27",
   "metadata": {},
   "outputs": [
    {
     "data": {
      "text/plain": [
       "3.3333333333333335"
      ]
     },
     "execution_count": 6,
     "metadata": {},
     "output_type": "execute_result"
    }
   ],
   "source": [
    "#this will convert 200 minutes to hours by diving by 60\n",
    "\n",
    "200 / 60 "
   ]
  },
  {
   "cell_type": "markdown",
   "id": "f454a07b-8db4-4f96-9ea3-cf63194f2016",
   "metadata": {},
   "source": [
    "List popular languages for Data Science\n",
    "\n",
    "* R\n",
    "* Python\n",
    "* SQL"
   ]
  },
  {
   "cell_type": "markdown",
   "id": "b9503333-6165-4d61-ab4f-a016a3f6d40c",
   "metadata": {},
   "source": [
    "## Author\n",
    "Sergei Zholudev"
   ]
  },
  {
   "cell_type": "code",
   "execution_count": null,
   "id": "0379a728-df12-4f63-9e7d-23f4bcab9b70",
   "metadata": {},
   "outputs": [],
   "source": []
  }
 ],
 "metadata": {
  "kernelspec": {
   "display_name": "Python 3 (ipykernel)",
   "language": "python",
   "name": "python3"
  },
  "language_info": {
   "codemirror_mode": {
    "name": "ipython",
    "version": 3
   },
   "file_extension": ".py",
   "mimetype": "text/x-python",
   "name": "python",
   "nbconvert_exporter": "python",
   "pygments_lexer": "ipython3",
   "version": "3.12.7"
  }
 },
 "nbformat": 4,
 "nbformat_minor": 5
}
